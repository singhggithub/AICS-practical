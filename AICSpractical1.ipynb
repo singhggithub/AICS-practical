{
  "nbformat": 4,
  "nbformat_minor": 0,
  "metadata": {
    "colab": {
      "name": "AICSpractical1.ipynb",
      "provenance": [],
      "collapsed_sections": [],
      "authorship_tag": "ABX9TyNW6YBEkg/X9jrLWVRECxWE",
      "include_colab_link": true
    },
    "kernelspec": {
      "name": "python3",
      "display_name": "Python 3"
    },
    "language_info": {
      "name": "python"
    }
  },
  "cells": [
    {
      "cell_type": "markdown",
      "metadata": {
        "id": "view-in-github",
        "colab_type": "text"
      },
      "source": [
        "<a href=\"https://colab.research.google.com/github/singhggithub/AICS-practical/blob/main/AICSpractical1.ipynb\" target=\"_parent\"><img src=\"https://colab.research.google.com/assets/colab-badge.svg\" alt=\"Open In Colab\"/></a>"
      ]
    },
    {
      "cell_type": "code",
      "execution_count": 1,
      "metadata": {
        "colab": {
          "base_uri": "https://localhost:8080/"
        },
        "id": "nH6cpLcSYnnD",
        "outputId": "ccb6eb33-802d-4520-d145-6143da9c35ce"
      },
      "outputs": [
        {
          "output_type": "stream",
          "name": "stdout",
          "text": [
            "Hello world\n"
          ]
        }
      ],
      "source": [
        "print(\"Hello world\")"
      ]
    },
    {
      "cell_type": "code",
      "source": [
        "gadgets = (\"Pc\",\"Headphones\",\"smartphone\",\"smartwatch\")\n",
        "print(gadgets)"
      ],
      "metadata": {
        "colab": {
          "base_uri": "https://localhost:8080/"
        },
        "id": "7liGFJk_Y_Bk",
        "outputId": "014b9576-7162-4e6e-cc30-a8d74fc13c19"
      },
      "execution_count": null,
      "outputs": [
        {
          "output_type": "stream",
          "name": "stdout",
          "text": [
            "('Pc', 'Headphones', 'smartphone', 'smartwatch')\n"
          ]
        }
      ]
    },
    {
      "cell_type": "code",
      "source": [
        "listcourse = [\"OSCP\",\"CEH Version11\",\"Pentesting\"]\n",
        "print(listcourse)"
      ],
      "metadata": {
        "colab": {
          "base_uri": "https://localhost:8080/"
        },
        "id": "nTu6prmOZRM-",
        "outputId": "d40c43e1-2aea-400b-c98b-1631b3372f24"
      },
      "execution_count": null,
      "outputs": [
        {
          "output_type": "stream",
          "name": "stdout",
          "text": [
            "['OSCP', 'CEH Version11', 'Pentesting']\n"
          ]
        }
      ]
    },
    {
      "cell_type": "code",
      "source": [
        "info = {\"brand\":\"HP\", \"Model\":\"HP pavellion Aero13\",\"Year\":\"2022\"}\n",
        "print(info)"
      ],
      "metadata": {
        "colab": {
          "base_uri": "https://localhost:8080/"
        },
        "id": "bn8hiw7NZoqT",
        "outputId": "cfb88c79-6601-4431-9e4d-16c2752ab46b"
      },
      "execution_count": null,
      "outputs": [
        {
          "output_type": "stream",
          "name": "stdout",
          "text": [
            "{'brand': 'HP', 'Model': 'HP pavellion Aero13', 'Year': '2022'}\n"
          ]
        }
      ]
    }
  ]
}